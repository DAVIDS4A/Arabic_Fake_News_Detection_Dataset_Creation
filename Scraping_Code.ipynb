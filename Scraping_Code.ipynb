{
 "cells": [
  {
   "cell_type": "code",
   "execution_count": 1,
   "metadata": {},
   "outputs": [
    {
     "name": "stdout",
     "output_type": "stream",
     "text": [
      "Collecting bs4\n",
      "  Downloading bs4-0.0.2-py2.py3-none-any.whl (1.2 kB)\n",
      "Collecting beautifulsoup4\n",
      "  Downloading beautifulsoup4-4.12.3-py3-none-any.whl (147 kB)\n",
      "Collecting soupsieve>1.2\n",
      "  Downloading soupsieve-2.4.1-py3-none-any.whl (36 kB)\n",
      "Installing collected packages: soupsieve, beautifulsoup4, bs4\n",
      "Successfully installed beautifulsoup4-4.12.3 bs4-0.0.2 soupsieve-2.4.1\n"
     ]
    }
   ],
   "source": [
    "!pip install bs4"
   ]
  },
  {
   "cell_type": "code",
   "execution_count": 85,
   "metadata": {},
   "outputs": [],
   "source": [
    "from bs4 import BeautifulSoup\n",
    "import requests"
   ]
  },
  {
   "cell_type": "code",
   "execution_count": 92,
   "metadata": {},
   "outputs": [],
   "source": [
    "html_text=requests.get('https://misbar.com/factcheck').text"
   ]
  },
  {
   "cell_type": "code",
   "execution_count": 80,
   "metadata": {},
   "outputs": [],
   "source": [
    "soup=BeautifulSoup(html_text,'lxml')"
   ]
  },
  {
   "cell_type": "code",
   "execution_count": 81,
   "metadata": {},
   "outputs": [],
   "source": [
    "headlines=soup.find_all(\"div\", class_=\"list_description\")"
   ]
  },
  {
   "cell_type": "code",
   "execution_count": 82,
   "metadata": {},
   "outputs": [
    {
     "name": "stdout",
     "output_type": "stream",
     "text": [
      "\n",
      "Has this Chinese man spoiled Valentine's Day for lovers by booking all two seats that next to each other at the cinema?\n",
      "\n",
      "\n",
      "This Photo Isn’t of Assad’s Cousin Hafez Makhlouf\n",
      "\n",
      "\n",
      "Footage Doesn’t Show Iranian Navy “Friendly Fire” Incident\n",
      "\n",
      "\n",
      "Did Putin Wear a Hazmat Suit in Meeting with Russian Officials?\n",
      "\n",
      "\n",
      "Did Mohamed Salah Send Boot, T-Shirt to Syrian Child Whose Leg Was Amputated?\n",
      "\n",
      "\n",
      "RT, Al-Hadath Spread Misinformation on M4 Road in Idlib\n",
      "\n",
      "\n",
      "This Video Does Not Show Turkish Troops Targeting Assad Regime Positions\n",
      "\n",
      "\n",
      "Al-Jazeera, Al-Arabiya Spread Misinformation on Assad's Forces Advances in Aleppo\n",
      "\n",
      "\n",
      "Did German Protesters Recently Call For Bringing Refugees from Syria’s Idlib?\n",
      "\n",
      "\n",
      "Man in This Photo Isn’t Syrian\n",
      "\n",
      "\n",
      "This Man Isn't the Victim Killed by Husband of Lebanese Singer Nancy Ajram\n",
      "\n",
      "\n",
      "Iran’s Fars News Agency and RT Fabricate Video of Targeting U.S. Base in Iraq\n",
      "\n",
      "\n",
      "None of These Videos Show Assassination of Iran’s Sulaimani\n",
      "\n",
      "\n",
      "4 Civilians Killed by Opposition Forces in the Northern Raqqah Countryside, Really?\n",
      "\n",
      "\n",
      "What Happened During Demonstrations near Syria-Turkey Border?\n",
      "\n",
      "\n",
      "This Photo Was Taken by Syrian Photographer, not British One\n",
      "\n",
      "\n",
      "Truth Behind “Syrian Gets into Brawl” in Turkey’s Erzurum\n",
      "\n",
      "\n",
      "Did Syrians Organize Protest against Recent Decisions by Istanbul Governor’s Office?\n",
      "\n"
     ]
    }
   ],
   "source": [
    "for headline in headlines:\n",
    "    news=headline.find(\"h3\").a.text\n",
    "    print(news)"
   ]
  },
  {
   "cell_type": "markdown",
   "metadata": {},
   "source": [
    "### MISBAR DATA USING SELENIUM"
   ]
  },
  {
   "cell_type": "code",
   "execution_count": 95,
   "metadata": {},
   "outputs": [
    {
     "name": "stdout",
     "output_type": "stream",
     "text": [
      "Collecting selenium\n",
      "  Downloading selenium-4.11.2-py3-none-any.whl (7.2 MB)\n",
      "Collecting certifi>=2021.10.8\n",
      "  Downloading certifi-2024.2.2-py3-none-any.whl (163 kB)\n",
      "Collecting trio~=0.17\n",
      "  Downloading trio-0.22.2-py3-none-any.whl (400 kB)\n",
      "Requirement already satisfied: attrs>=20.1.0 in c:\\users\\nexus computers\\miniconda3\\envs\\myenv\\lib\\site-packages (from trio~=0.17->selenium) (20.3.0)\n"
     ]
    },
    {
     "name": "stderr",
     "output_type": "stream",
     "text": [
      "ERROR: pip's dependency resolver does not currently take into account all the packages that are installed. This behaviour is the source of the following dependency conflicts.\n",
      "requests 2.25.0 requires urllib3<1.27,>=1.21.1, but you have urllib3 2.0.7 which is incompatible.\n"
     ]
    },
    {
     "name": "stdout",
     "output_type": "stream",
     "text": [
      "Requirement already satisfied: idna in c:\\users\\nexus computers\\miniconda3\\envs\\myenv\\lib\\site-packages (from trio~=0.17->selenium) (2.10)\n",
      "Requirement already satisfied: cffi>=1.14 in c:\\users\\nexus computers\\miniconda3\\envs\\myenv\\lib\\site-packages (from trio~=0.17->selenium) (1.14.4)\n",
      "Requirement already satisfied: pycparser in c:\\users\\nexus computers\\miniconda3\\envs\\myenv\\lib\\site-packages (from cffi>=1.14->trio~=0.17->selenium) (2.20)\n",
      "Collecting exceptiongroup>=1.0.0rc9\n",
      "  Downloading exceptiongroup-1.2.0-py3-none-any.whl (16 kB)\n",
      "Collecting outcome\n",
      "  Downloading outcome-1.3.0.post0-py2.py3-none-any.whl (10 kB)\n",
      "Requirement already satisfied: attrs>=20.1.0 in c:\\users\\nexus computers\\miniconda3\\envs\\myenv\\lib\\site-packages (from trio~=0.17->selenium) (20.3.0)\n",
      "Collecting sniffio\n",
      "  Downloading sniffio-1.3.1-py3-none-any.whl (10 kB)\n",
      "Collecting sortedcontainers\n",
      "  Downloading sortedcontainers-2.4.0-py2.py3-none-any.whl (29 kB)\n",
      "Collecting trio-websocket~=0.9\n",
      "  Downloading trio_websocket-0.11.1-py3-none-any.whl (17 kB)\n",
      "Collecting urllib3[socks]<3,>=1.26\n",
      "  Using cached urllib3-2.0.7-py3-none-any.whl (124 kB)\n",
      "Requirement already satisfied: pysocks!=1.5.7,<2.0,>=1.5.6 in c:\\users\\nexus computers\\miniconda3\\envs\\myenv\\lib\\site-packages (from urllib3[socks]<3,>=1.26->selenium) (1.7.1)\n",
      "Collecting wsproto>=0.14\n",
      "  Downloading wsproto-1.2.0-py3-none-any.whl (24 kB)\n",
      "Collecting h11<1,>=0.9.0\n",
      "  Downloading h11-0.14.0-py3-none-any.whl (58 kB)\n",
      "Requirement already satisfied: typing-extensions in c:\\users\\nexus computers\\miniconda3\\envs\\myenv\\lib\\site-packages (from h11<1,>=0.9.0->wsproto>=0.14->trio-websocket~=0.9->selenium) (4.7.1)\n",
      "Installing collected packages: sortedcontainers, sniffio, outcome, h11, exceptiongroup, wsproto, urllib3, trio, trio-websocket, certifi, selenium\n",
      "  Attempting uninstall: urllib3\n",
      "    Found existing installation: urllib3 1.25.11\n",
      "    Uninstalling urllib3-1.25.11:\n",
      "      Successfully uninstalled urllib3-1.25.11\n",
      "  Attempting uninstall: certifi\n",
      "    Found existing installation: certifi 2020.12.5\n",
      "    Uninstalling certifi-2020.12.5:\n",
      "      Successfully uninstalled certifi-2020.12.5\n",
      "Successfully installed certifi-2024.2.2 exceptiongroup-1.2.0 h11-0.14.0 outcome-1.3.0.post0 selenium-4.11.2 sniffio-1.3.1 sortedcontainers-2.4.0 trio-0.22.2 trio-websocket-0.11.1 urllib3-2.0.7 wsproto-1.2.0\n"
     ]
    }
   ],
   "source": [
    "!pip install selenium"
   ]
  },
  {
   "cell_type": "code",
   "execution_count": 103,
   "metadata": {},
   "outputs": [
    {
     "name": "stdout",
     "output_type": "stream",
     "text": [
      "Collecting webdriver_manager\n",
      "  Downloading webdriver_manager-4.0.1-py2.py3-none-any.whl (27 kB)\n",
      "Requirement already satisfied: packaging in c:\\users\\nexus computers\\miniconda3\\envs\\myenv\\lib\\site-packages (from webdriver_manager) (24.0)\n",
      "Requirement already satisfied: requests in c:\\users\\nexus computers\\miniconda3\\envs\\myenv\\lib\\site-packages (from webdriver_manager) (2.25.0)\n",
      "Collecting python-dotenv\n",
      "  Downloading python_dotenv-0.21.1-py3-none-any.whl (19 kB)\n",
      "Requirement already satisfied: idna<3,>=2.5 in c:\\users\\nexus computers\\miniconda3\\envs\\myenv\\lib\\site-packages (from requests->webdriver_manager) (2.10)\n",
      "Requirement already satisfied: chardet<4,>=3.0.2 in c:\\users\\nexus computers\\miniconda3\\envs\\myenv\\lib\\site-packages (from requests->webdriver_manager) (3.0.4)\n",
      "Requirement already satisfied: certifi>=2017.4.17 in c:\\users\\nexus computers\\miniconda3\\envs\\myenv\\lib\\site-packages (from requests->webdriver_manager) (2024.2.2)\n",
      "Collecting urllib3<1.27,>=1.21.1\n",
      "  Downloading urllib3-1.26.18-py2.py3-none-any.whl (143 kB)\n",
      "Installing collected packages: urllib3, python-dotenv, webdriver-manager\n",
      "  Attempting uninstall: urllib3\n",
      "    Found existing installation: urllib3 2.0.7\n",
      "    Uninstalling urllib3-2.0.7:\n",
      "      Successfully uninstalled urllib3-2.0.7\n",
      "Successfully installed python-dotenv-0.21.1 urllib3-1.26.18 webdriver-manager-4.0.1\n"
     ]
    }
   ],
   "source": [
    "!pip install webdriver_manager"
   ]
  },
  {
   "cell_type": "code",
   "execution_count": 119,
   "metadata": {},
   "outputs": [],
   "source": [
    "from selenium import webdriver\n",
    "from selenium.webdriver.chrome.service import Service\n",
    "from webdriver_manager.chrome import ChromeDriverManager\n",
    "\n",
    "# Setup\n",
    "s = Service(ChromeDriverManager().install())\n",
    "driver = webdriver.Chrome(service=s)"
   ]
  },
  {
   "cell_type": "code",
   "execution_count": null,
   "metadata": {},
   "outputs": [],
   "source": [
    "from selenium.webdriver.common.by import By\n",
    "from selenium.webdriver.support.ui import WebDriverWait\n",
    "from selenium.webdriver.support import expected_conditions as EC\n",
    "import csv\n",
    "import time\n",
    "\n",
    "# Initialize webdriver\n",
    "driver = webdriver.Chrome()\n",
    "\n",
    "driver.get(\"https://misbar.com/factcheck\")\n",
    "\n",
    "# Scraping function\n",
    "def scrape_articles():\n",
    "    articles = WebDriverWait(driver, 10).until(\n",
    "        EC.presence_of_all_elements_located((By.CLASS_NAME, 'factcheck-item'))\n",
    "    )\n",
    "    scraped_data = []\n",
    "    for article in articles:\n",
    "        title_element = article.find_element(By.CLASS_NAME, 'card-title')\n",
    "        title = title_element.text\n",
    "        category = article.find_element(By.CLASS_NAME, 'category-type').text\n",
    "        legitimacy = article.find_element(By.CLASS_NAME, 'classification').text\n",
    "        if legitimacy in [\"صحيح\", \"زائف\",\"مفبرك\",\"خطأ شنيع\",\"حقيقي\",\"مزيف\"]:\n",
    "            if legitimacy in [\"زائف\",\"مفبرك\",\"خطأ شنيع\",\"مزيف\"]:\n",
    "                legitimacy=\"زائف\"\n",
    "            scraped_data.append([title, category, legitimacy])\n",
    "        #scraped_data.append([title, category, legitimacy])\n",
    "    return scraped_data\n",
    "\n",
    "# Clicks load more button, to load more articles for scraping\n",
    "def click_load_more():\n",
    "    try:\n",
    "        load_more_button = WebDriverWait(driver, 10).until(\n",
    "            EC.element_to_be_clickable((By.CLASS_NAME, 'load-more'))\n",
    "        )\n",
    "        driver.execute_script(\"arguments[0].scrollIntoView(true);\", load_more_button)\n",
    "        time.sleep(3)\n",
    "        #load_more_button.click()\n",
    "        driver.execute_script(\"arguments[0].click();\", load_more_button)\n",
    "        return True\n",
    "    except:\n",
    "        return False\n",
    "\n",
    "# retrive all the categories // of articles\n",
    "filter_categories = WebDriverWait(driver, 10).until(\n",
    "    EC.presence_of_all_elements_located((By.CLASS_NAME, 'dropdown-item'))\n",
    ")\n",
    "\n",
    "# Go through all except the first (All) which is a mixture of all the categories\n",
    "for category in filter_categories[1:]: \n",
    "    category_text = category.text\n",
    "    driver.execute_script(\"arguments[0].scrollIntoView(true);\", category)\n",
    "    time.sleep(1)\n",
    "    driver.execute_script(\"arguments[0].click();\", category)\n",
    "    \n",
    "    # Wait for the first article to change to confirm the page has updated\n",
    "    WebDriverWait(driver, 10).until(\n",
    "        EC.presence_of_element_located((By.CLASS_NAME, 'factcheck-item'))\n",
    "    )\n",
    "    # Allow additional time for the full list to load\n",
    "    time.sleep(2)  \n",
    "    \n",
    "    # Scrape\n",
    "    scraped_data = scrape_articles()\n",
    "\n",
    "    # click loadmore 100 times for each category\n",
    "    for _ in range(100):\n",
    "        \n",
    "        if not click_load_more():\n",
    "            break\n",
    "        # Wait for more articles to load\n",
    "        time.sleep(2)  \n",
    "        scraped_data.extend(scrape_articles())\n",
    "\n",
    "    with open(f'{category_text}_articles.csv', 'w', newline='', encoding='utf-8') as csvfile:\n",
    "        writer = csv.writer(csvfile)\n",
    "        writer.writerow(['Article', 'Topic', 'Legitimacy'])\n",
    "        writer.writerows(scraped_data)\n",
    "\n",
    "driver.quit()\n"
   ]
  },
  {
   "cell_type": "code",
   "execution_count": 13,
   "metadata": {},
   "outputs": [],
   "source": [
    "import pandas as pd\n",
    "import os\n",
    "\n",
    "# Get the current working directory\n",
    "directory = os.getcwd()\n",
    "\n",
    "# List to hold dataframes\n",
    "dfs = []\n",
    "\n",
    "# Loop through each CSV file in the directory\n",
    "for filename in os.listdir(directory):\n",
    "    if filename.endswith('.csv'):\n",
    "        # Read CSV file into a dataframe\n",
    "        df = pd.read_csv(os.path.join(directory, filename))\n",
    "        # Append dataframe to the list\n",
    "        dfs.append(df)\n",
    "\n",
    "# All dataframes into one\n",
    "combined_df = pd.concat(dfs, ignore_index=True)\n",
    "\n",
    "# Combined dataframe to a new CSV file\n",
    "combined_df.to_csv('final_fake_news_detection_arabic_dataset.csv', index=False)\n"
   ]
  },
  {
   "cell_type": "markdown",
   "metadata": {},
   "source": [
    "### STATISTICS"
   ]
  },
  {
   "cell_type": "code",
   "execution_count": 14,
   "metadata": {},
   "outputs": [],
   "source": [
    "df_for_stats=pd.read_csv(\"final_fake_news_detection_arabic_dataset.csv\")"
   ]
  },
  {
   "cell_type": "code",
   "execution_count": 15,
   "metadata": {},
   "outputs": [
    {
     "data": {
      "text/html": [
       "<div>\n",
       "<style scoped>\n",
       "    .dataframe tbody tr th:only-of-type {\n",
       "        vertical-align: middle;\n",
       "    }\n",
       "\n",
       "    .dataframe tbody tr th {\n",
       "        vertical-align: top;\n",
       "    }\n",
       "\n",
       "    .dataframe thead th {\n",
       "        text-align: right;\n",
       "    }\n",
       "</style>\n",
       "<table border=\"1\" class=\"dataframe\">\n",
       "  <thead>\n",
       "    <tr style=\"text-align: right;\">\n",
       "      <th></th>\n",
       "      <th>Article</th>\n",
       "      <th>Topic</th>\n",
       "      <th>Legitimacy</th>\n",
       "    </tr>\n",
       "  </thead>\n",
       "  <tbody>\n",
       "    <tr>\n",
       "      <th>0</th>\n",
       "      <td>الصورة مفبركة وليست لكسوف الشمس في البرتغال حد...</td>\n",
       "      <td>أخبار</td>\n",
       "      <td>زائف</td>\n",
       "    </tr>\n",
       "    <tr>\n",
       "      <th>1</th>\n",
       "      <td>الصورة مفبركة وليست لكسوف الشمس في البرتغال حد...</td>\n",
       "      <td>أخبار</td>\n",
       "      <td>زائف</td>\n",
       "    </tr>\n",
       "    <tr>\n",
       "      <th>2</th>\n",
       "      <td>الصورة مفبركة وليست لكسوف الشمس في البرتغال حد...</td>\n",
       "      <td>أخبار</td>\n",
       "      <td>زائف</td>\n",
       "    </tr>\n",
       "    <tr>\n",
       "      <th>3</th>\n",
       "      <td>الفيديو قديم وليس لمظاهرة ضد آل سعود في جامعة ...</td>\n",
       "      <td>أخبار</td>\n",
       "      <td>زائف</td>\n",
       "    </tr>\n",
       "    <tr>\n",
       "      <th>4</th>\n",
       "      <td>الصورة مفبركة وليست لكسوف الشمس في البرتغال حد...</td>\n",
       "      <td>أخبار</td>\n",
       "      <td>زائف</td>\n",
       "    </tr>\n",
       "  </tbody>\n",
       "</table>\n",
       "</div>"
      ],
      "text/plain": [
       "                                             Article  Topic Legitimacy\n",
       "0  الصورة مفبركة وليست لكسوف الشمس في البرتغال حد...  أخبار       زائف\n",
       "1  الصورة مفبركة وليست لكسوف الشمس في البرتغال حد...  أخبار       زائف\n",
       "2  الصورة مفبركة وليست لكسوف الشمس في البرتغال حد...  أخبار       زائف\n",
       "3  الفيديو قديم وليس لمظاهرة ضد آل سعود في جامعة ...  أخبار       زائف\n",
       "4  الصورة مفبركة وليست لكسوف الشمس في البرتغال حد...  أخبار       زائف"
      ]
     },
     "execution_count": 15,
     "metadata": {},
     "output_type": "execute_result"
    }
   ],
   "source": [
    "df_for_stats.head()"
   ]
  },
  {
   "cell_type": "code",
   "execution_count": 16,
   "metadata": {},
   "outputs": [
    {
     "data": {
      "text/html": [
       "<div>\n",
       "<style scoped>\n",
       "    .dataframe tbody tr th:only-of-type {\n",
       "        vertical-align: middle;\n",
       "    }\n",
       "\n",
       "    .dataframe tbody tr th {\n",
       "        vertical-align: top;\n",
       "    }\n",
       "\n",
       "    .dataframe thead th {\n",
       "        text-align: right;\n",
       "    }\n",
       "</style>\n",
       "<table border=\"1\" class=\"dataframe\">\n",
       "  <thead>\n",
       "    <tr style=\"text-align: right;\">\n",
       "      <th></th>\n",
       "      <th>Article</th>\n",
       "      <th>Topic</th>\n",
       "      <th>Legitimacy</th>\n",
       "    </tr>\n",
       "  </thead>\n",
       "  <tbody>\n",
       "    <tr>\n",
       "      <th>37779</th>\n",
       "      <td>لم يعزف أندريه ريو موسيقى فيلم الرسالة</td>\n",
       "      <td>موسيقى</td>\n",
       "      <td>زائف</td>\n",
       "    </tr>\n",
       "    <tr>\n",
       "      <th>37780</th>\n",
       "      <td>لم يعزف ياني موسيقى رأفت الهجَّان</td>\n",
       "      <td>موسيقى</td>\n",
       "      <td>زائف</td>\n",
       "    </tr>\n",
       "    <tr>\n",
       "      <th>37781</th>\n",
       "      <td>وفاة الفنانة فيروز.. خبر زائف</td>\n",
       "      <td>موسيقى</td>\n",
       "      <td>زائف</td>\n",
       "    </tr>\n",
       "    <tr>\n",
       "      <th>37782</th>\n",
       "      <td>مايكل جاكسون يغني للحج.. حقيقة الفيديو</td>\n",
       "      <td>موسيقى</td>\n",
       "      <td>زائف</td>\n",
       "    </tr>\n",
       "    <tr>\n",
       "      <th>37783</th>\n",
       "      <td>دورة في الرقص الشرقي لفيفي عبده في السعودية.. ...</td>\n",
       "      <td>موسيقى</td>\n",
       "      <td>زائف</td>\n",
       "    </tr>\n",
       "  </tbody>\n",
       "</table>\n",
       "</div>"
      ],
      "text/plain": [
       "                                                 Article   Topic Legitimacy\n",
       "37779             لم يعزف أندريه ريو موسيقى فيلم الرسالة  موسيقى       زائف\n",
       "37780                  لم يعزف ياني موسيقى رأفت الهجَّان  موسيقى       زائف\n",
       "37781                      وفاة الفنانة فيروز.. خبر زائف  موسيقى       زائف\n",
       "37782             مايكل جاكسون يغني للحج.. حقيقة الفيديو  موسيقى       زائف\n",
       "37783  دورة في الرقص الشرقي لفيفي عبده في السعودية.. ...  موسيقى       زائف"
      ]
     },
     "execution_count": 16,
     "metadata": {},
     "output_type": "execute_result"
    }
   ],
   "source": [
    "df_for_stats.tail()"
   ]
  },
  {
   "cell_type": "markdown",
   "metadata": {},
   "source": [
    "#### NUMBER OF ARTICLES"
   ]
  },
  {
   "cell_type": "code",
   "execution_count": 17,
   "metadata": {},
   "outputs": [
    {
     "data": {
      "text/html": [
       "<div>\n",
       "<style scoped>\n",
       "    .dataframe tbody tr th:only-of-type {\n",
       "        vertical-align: middle;\n",
       "    }\n",
       "\n",
       "    .dataframe tbody tr th {\n",
       "        vertical-align: top;\n",
       "    }\n",
       "\n",
       "    .dataframe thead th {\n",
       "        text-align: right;\n",
       "    }\n",
       "</style>\n",
       "<table border=\"1\" class=\"dataframe\">\n",
       "  <thead>\n",
       "    <tr style=\"text-align: right;\">\n",
       "      <th></th>\n",
       "      <th>Article</th>\n",
       "      <th>Topic</th>\n",
       "      <th>Legitimacy</th>\n",
       "    </tr>\n",
       "  </thead>\n",
       "  <tbody>\n",
       "    <tr>\n",
       "      <th>count</th>\n",
       "      <td>37784</td>\n",
       "      <td>37784</td>\n",
       "      <td>37784</td>\n",
       "    </tr>\n",
       "    <tr>\n",
       "      <th>unique</th>\n",
       "      <td>1069</td>\n",
       "      <td>8</td>\n",
       "      <td>2</td>\n",
       "    </tr>\n",
       "    <tr>\n",
       "      <th>top</th>\n",
       "      <td>لا صحة لخبر وفاة المدرب البرازيلي جورفان فييرا</td>\n",
       "      <td>رياضة</td>\n",
       "      <td>زائف</td>\n",
       "    </tr>\n",
       "    <tr>\n",
       "      <th>freq</th>\n",
       "      <td>125</td>\n",
       "      <td>16984</td>\n",
       "      <td>36986</td>\n",
       "    </tr>\n",
       "  </tbody>\n",
       "</table>\n",
       "</div>"
      ],
      "text/plain": [
       "                                               Article  Topic Legitimacy\n",
       "count                                            37784  37784      37784\n",
       "unique                                            1069      8          2\n",
       "top     لا صحة لخبر وفاة المدرب البرازيلي جورفان فييرا  رياضة       زائف\n",
       "freq                                               125  16984      36986"
      ]
     },
     "execution_count": 17,
     "metadata": {},
     "output_type": "execute_result"
    }
   ],
   "source": [
    "df_for_stats.describe()"
   ]
  },
  {
   "cell_type": "code",
   "execution_count": 18,
   "metadata": {},
   "outputs": [
    {
     "data": {
      "text/plain": [
       "(37784, 3)"
      ]
     },
     "execution_count": 18,
     "metadata": {},
     "output_type": "execute_result"
    }
   ],
   "source": [
    "df_for_stats.shape"
   ]
  },
  {
   "cell_type": "markdown",
   "metadata": {},
   "source": [
    "#### DISTRIBUTION ACROSS TOPICS"
   ]
  },
  {
   "cell_type": "code",
   "execution_count": 20,
   "metadata": {},
   "outputs": [
    {
     "data": {
      "text/plain": [
       "count     37784\n",
       "unique        8\n",
       "top       رياضة\n",
       "freq      16984\n",
       "Name: Topic, dtype: object"
      ]
     },
     "execution_count": 20,
     "metadata": {},
     "output_type": "execute_result"
    }
   ],
   "source": [
    "df_for_stats[\"Topic\"].describe()"
   ]
  },
  {
   "cell_type": "code",
   "execution_count": 22,
   "metadata": {},
   "outputs": [],
   "source": [
    "import matplotlib.pyplot as plt"
   ]
  },
  {
   "cell_type": "code",
   "execution_count": 41,
   "metadata": {},
   "outputs": [
    {
     "data": {
      "image/png": "[encoded data removed]",
      "text/plain": [
       "<Figure size 432x288 with 1 Axes>"
      ]
     },
     "metadata": {
      "needs_background": "light"
     },
     "output_type": "display_data"
    }
   ],
   "source": [
    "fig, ax=plt.subplots()\n",
    "\n",
    "ax.hist(df_for_stats[\"Topic\"], bins=8, linewidth=0.5, edgecolor=\"white\")\n",
    "\n",
    "plt.show()"
   ]
  },
  {
   "cell_type": "code",
   "execution_count": 45,
   "metadata": {},
   "outputs": [
    {
     "name": "stdout",
     "output_type": "stream",
     "text": [
      "Topic\n",
      "أخبار         3156\n",
      "ترفيه          501\n",
      "تكنولوجيا      405\n",
      "ثقافة وفن     5841\n",
      "رياضة        16984\n",
      "سياسة         7410\n",
      "صحة           3458\n",
      "موسيقى          29\n",
      "dtype: int64\n"
     ]
    }
   ],
   "source": [
    "topic_count=df_for_stats.groupby(\"Topic\").size()\n",
    "print(topic_count)"
   ]
  },
  {
   "cell_type": "code",
   "execution_count": null,
   "metadata": {},
   "outputs": [],
   "source": []
  }
 ],
 "metadata": {
  "kernelspec": {
   "display_name": "Python 3",
   "language": "python",
   "name": "python3"
  },
  "language_info": {
   "codemirror_mode": {
    "name": "ipython",
    "version": 3
   },
   "file_extension": ".py",
   "mimetype": "text/x-python",
   "name": "python",
   "nbconvert_exporter": "python",
   "pygments_lexer": "ipython3",
   "version": "3.7.9"
  }
 },
 "nbformat": 4,
 "nbformat_minor": 4
}
